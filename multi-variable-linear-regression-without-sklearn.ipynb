{
 "cells": [
  {
   "cell_type": "code",
   "execution_count": 1,
   "id": "9d5f1b4c",
   "metadata": {
    "_cell_guid": "b1076dfc-b9ad-4769-8c92-a6c4dae69d19",
    "_uuid": "8f2839f25d086af736a60e9eeb907d3b93b6e0e5",
    "execution": {
     "iopub.execute_input": "2024-07-13T19:45:28.525743Z",
     "iopub.status.busy": "2024-07-13T19:45:28.525321Z",
     "iopub.status.idle": "2024-07-13T19:45:29.543060Z",
     "shell.execute_reply": "2024-07-13T19:45:29.541492Z"
    },
    "papermill": {
     "duration": 1.028181,
     "end_time": "2024-07-13T19:45:29.545877",
     "exception": false,
     "start_time": "2024-07-13T19:45:28.517696",
     "status": "completed"
    },
    "tags": []
   },
   "outputs": [
    {
     "name": "stdout",
     "output_type": "stream",
     "text": [
      "/kaggle/input/home-data-for-ml-course/sample_submission.csv\n",
      "/kaggle/input/home-data-for-ml-course/sample_submission.csv.gz\n",
      "/kaggle/input/home-data-for-ml-course/train.csv.gz\n",
      "/kaggle/input/home-data-for-ml-course/data_description.txt\n",
      "/kaggle/input/home-data-for-ml-course/test.csv.gz\n",
      "/kaggle/input/home-data-for-ml-course/train.csv\n",
      "/kaggle/input/home-data-for-ml-course/test.csv\n"
     ]
    }
   ],
   "source": [
    "# This Python 3 environment comes with many helpful analytics libraries installed\n",
    "# It is defined by the kaggle/python Docker image: https://github.com/kaggle/docker-python\n",
    "# For example, here's several helpful packages to load\n",
    "\n",
    "import numpy as np # linear algebra\n",
    "import pandas as pd # data processing, CSV file I/O (e.g. pd.read_csv)\n",
    "\n",
    "# Input data files are available in the read-only \"../input/\" directory\n",
    "# For example, running this (by clicking run or pressing Shift+Enter) will list all files under the input directory\n",
    "\n",
    "import os\n",
    "for dirname, _, filenames in os.walk('/kaggle/input'):\n",
    "    for filename in filenames:\n",
    "        print(os.path.join(dirname, filename))\n",
    "\n",
    "# You can write up to 20GB to the current directory (/kaggle/working/) that gets preserved as output when you create a version using \"Save & Run All\" \n",
    "# You can also write temporary files to /kaggle/temp/, but they won't be saved outside of the current session"
   ]
  },
  {
   "cell_type": "code",
   "execution_count": 2,
   "id": "e700e9de",
   "metadata": {
    "execution": {
     "iopub.execute_input": "2024-07-13T19:45:29.558473Z",
     "iopub.status.busy": "2024-07-13T19:45:29.557913Z",
     "iopub.status.idle": "2024-07-13T19:45:29.650467Z",
     "shell.execute_reply": "2024-07-13T19:45:29.649253Z"
    },
    "papermill": {
     "duration": 0.10176,
     "end_time": "2024-07-13T19:45:29.653174",
     "exception": false,
     "start_time": "2024-07-13T19:45:29.551414",
     "status": "completed"
    },
    "tags": []
   },
   "outputs": [
    {
     "data": {
      "text/html": [
       "<div>\n",
       "<style scoped>\n",
       "    .dataframe tbody tr th:only-of-type {\n",
       "        vertical-align: middle;\n",
       "    }\n",
       "\n",
       "    .dataframe tbody tr th {\n",
       "        vertical-align: top;\n",
       "    }\n",
       "\n",
       "    .dataframe thead th {\n",
       "        text-align: right;\n",
       "    }\n",
       "</style>\n",
       "<table border=\"1\" class=\"dataframe\">\n",
       "  <thead>\n",
       "    <tr style=\"text-align: right;\">\n",
       "      <th></th>\n",
       "      <th>Id</th>\n",
       "      <th>MSSubClass</th>\n",
       "      <th>MSZoning</th>\n",
       "      <th>LotFrontage</th>\n",
       "      <th>LotArea</th>\n",
       "      <th>Street</th>\n",
       "      <th>Alley</th>\n",
       "      <th>LotShape</th>\n",
       "      <th>LandContour</th>\n",
       "      <th>Utilities</th>\n",
       "      <th>...</th>\n",
       "      <th>PoolArea</th>\n",
       "      <th>PoolQC</th>\n",
       "      <th>Fence</th>\n",
       "      <th>MiscFeature</th>\n",
       "      <th>MiscVal</th>\n",
       "      <th>MoSold</th>\n",
       "      <th>YrSold</th>\n",
       "      <th>SaleType</th>\n",
       "      <th>SaleCondition</th>\n",
       "      <th>SalePrice</th>\n",
       "    </tr>\n",
       "  </thead>\n",
       "  <tbody>\n",
       "    <tr>\n",
       "      <th>0</th>\n",
       "      <td>1</td>\n",
       "      <td>60</td>\n",
       "      <td>RL</td>\n",
       "      <td>65.0</td>\n",
       "      <td>8450</td>\n",
       "      <td>Pave</td>\n",
       "      <td>NaN</td>\n",
       "      <td>Reg</td>\n",
       "      <td>Lvl</td>\n",
       "      <td>AllPub</td>\n",
       "      <td>...</td>\n",
       "      <td>0</td>\n",
       "      <td>NaN</td>\n",
       "      <td>NaN</td>\n",
       "      <td>NaN</td>\n",
       "      <td>0</td>\n",
       "      <td>2</td>\n",
       "      <td>2008</td>\n",
       "      <td>WD</td>\n",
       "      <td>Normal</td>\n",
       "      <td>208500</td>\n",
       "    </tr>\n",
       "    <tr>\n",
       "      <th>1</th>\n",
       "      <td>2</td>\n",
       "      <td>20</td>\n",
       "      <td>RL</td>\n",
       "      <td>80.0</td>\n",
       "      <td>9600</td>\n",
       "      <td>Pave</td>\n",
       "      <td>NaN</td>\n",
       "      <td>Reg</td>\n",
       "      <td>Lvl</td>\n",
       "      <td>AllPub</td>\n",
       "      <td>...</td>\n",
       "      <td>0</td>\n",
       "      <td>NaN</td>\n",
       "      <td>NaN</td>\n",
       "      <td>NaN</td>\n",
       "      <td>0</td>\n",
       "      <td>5</td>\n",
       "      <td>2007</td>\n",
       "      <td>WD</td>\n",
       "      <td>Normal</td>\n",
       "      <td>181500</td>\n",
       "    </tr>\n",
       "    <tr>\n",
       "      <th>2</th>\n",
       "      <td>3</td>\n",
       "      <td>60</td>\n",
       "      <td>RL</td>\n",
       "      <td>68.0</td>\n",
       "      <td>11250</td>\n",
       "      <td>Pave</td>\n",
       "      <td>NaN</td>\n",
       "      <td>IR1</td>\n",
       "      <td>Lvl</td>\n",
       "      <td>AllPub</td>\n",
       "      <td>...</td>\n",
       "      <td>0</td>\n",
       "      <td>NaN</td>\n",
       "      <td>NaN</td>\n",
       "      <td>NaN</td>\n",
       "      <td>0</td>\n",
       "      <td>9</td>\n",
       "      <td>2008</td>\n",
       "      <td>WD</td>\n",
       "      <td>Normal</td>\n",
       "      <td>223500</td>\n",
       "    </tr>\n",
       "    <tr>\n",
       "      <th>3</th>\n",
       "      <td>4</td>\n",
       "      <td>70</td>\n",
       "      <td>RL</td>\n",
       "      <td>60.0</td>\n",
       "      <td>9550</td>\n",
       "      <td>Pave</td>\n",
       "      <td>NaN</td>\n",
       "      <td>IR1</td>\n",
       "      <td>Lvl</td>\n",
       "      <td>AllPub</td>\n",
       "      <td>...</td>\n",
       "      <td>0</td>\n",
       "      <td>NaN</td>\n",
       "      <td>NaN</td>\n",
       "      <td>NaN</td>\n",
       "      <td>0</td>\n",
       "      <td>2</td>\n",
       "      <td>2006</td>\n",
       "      <td>WD</td>\n",
       "      <td>Abnorml</td>\n",
       "      <td>140000</td>\n",
       "    </tr>\n",
       "    <tr>\n",
       "      <th>4</th>\n",
       "      <td>5</td>\n",
       "      <td>60</td>\n",
       "      <td>RL</td>\n",
       "      <td>84.0</td>\n",
       "      <td>14260</td>\n",
       "      <td>Pave</td>\n",
       "      <td>NaN</td>\n",
       "      <td>IR1</td>\n",
       "      <td>Lvl</td>\n",
       "      <td>AllPub</td>\n",
       "      <td>...</td>\n",
       "      <td>0</td>\n",
       "      <td>NaN</td>\n",
       "      <td>NaN</td>\n",
       "      <td>NaN</td>\n",
       "      <td>0</td>\n",
       "      <td>12</td>\n",
       "      <td>2008</td>\n",
       "      <td>WD</td>\n",
       "      <td>Normal</td>\n",
       "      <td>250000</td>\n",
       "    </tr>\n",
       "  </tbody>\n",
       "</table>\n",
       "<p>5 rows × 81 columns</p>\n",
       "</div>"
      ],
      "text/plain": [
       "   Id  MSSubClass MSZoning  LotFrontage  LotArea Street Alley LotShape  \\\n",
       "0   1          60       RL         65.0     8450   Pave   NaN      Reg   \n",
       "1   2          20       RL         80.0     9600   Pave   NaN      Reg   \n",
       "2   3          60       RL         68.0    11250   Pave   NaN      IR1   \n",
       "3   4          70       RL         60.0     9550   Pave   NaN      IR1   \n",
       "4   5          60       RL         84.0    14260   Pave   NaN      IR1   \n",
       "\n",
       "  LandContour Utilities  ... PoolArea PoolQC Fence MiscFeature MiscVal MoSold  \\\n",
       "0         Lvl    AllPub  ...        0    NaN   NaN         NaN       0      2   \n",
       "1         Lvl    AllPub  ...        0    NaN   NaN         NaN       0      5   \n",
       "2         Lvl    AllPub  ...        0    NaN   NaN         NaN       0      9   \n",
       "3         Lvl    AllPub  ...        0    NaN   NaN         NaN       0      2   \n",
       "4         Lvl    AllPub  ...        0    NaN   NaN         NaN       0     12   \n",
       "\n",
       "  YrSold  SaleType  SaleCondition  SalePrice  \n",
       "0   2008        WD         Normal     208500  \n",
       "1   2007        WD         Normal     181500  \n",
       "2   2008        WD         Normal     223500  \n",
       "3   2006        WD        Abnorml     140000  \n",
       "4   2008        WD         Normal     250000  \n",
       "\n",
       "[5 rows x 81 columns]"
      ]
     },
     "execution_count": 2,
     "metadata": {},
     "output_type": "execute_result"
    }
   ],
   "source": [
    "#Loading data\n",
    "data = pd.read_csv(\"/kaggle/input/home-data-for-ml-course/train.csv\")\n",
    "data.head()\n"
   ]
  },
  {
   "cell_type": "code",
   "execution_count": 3,
   "id": "ac6b6beb",
   "metadata": {
    "execution": {
     "iopub.execute_input": "2024-07-13T19:45:29.667058Z",
     "iopub.status.busy": "2024-07-13T19:45:29.666119Z",
     "iopub.status.idle": "2024-07-13T19:45:29.673550Z",
     "shell.execute_reply": "2024-07-13T19:45:29.672286Z"
    },
    "papermill": {
     "duration": 0.017182,
     "end_time": "2024-07-13T19:45:29.676199",
     "exception": false,
     "start_time": "2024-07-13T19:45:29.659017",
     "status": "completed"
    },
    "tags": []
   },
   "outputs": [
    {
     "data": {
      "text/plain": [
       "1460"
      ]
     },
     "execution_count": 3,
     "metadata": {},
     "output_type": "execute_result"
    }
   ],
   "source": [
    "m =  len(data)\n",
    "m"
   ]
  },
  {
   "cell_type": "code",
   "execution_count": 4,
   "id": "1741c9ea",
   "metadata": {
    "execution": {
     "iopub.execute_input": "2024-07-13T19:45:29.690735Z",
     "iopub.status.busy": "2024-07-13T19:45:29.690347Z",
     "iopub.status.idle": "2024-07-13T19:45:31.153198Z",
     "shell.execute_reply": "2024-07-13T19:45:31.151939Z"
    },
    "papermill": {
     "duration": 1.473545,
     "end_time": "2024-07-13T19:45:31.156139",
     "exception": false,
     "start_time": "2024-07-13T19:45:29.682594",
     "status": "completed"
    },
    "tags": []
   },
   "outputs": [
    {
     "name": "stdout",
     "output_type": "stream",
     "text": [
      "X_val shape: (1460, 7), y_val shape: (1460,)\n"
     ]
    }
   ],
   "source": [
    "from sklearn.model_selection import train_test_split\n",
    "from sklearn.preprocessing import StandardScaler\n",
    "\n",
    "# Assuming 'data' is your original DataFrame containing features and target\n",
    "features = ['LotArea', 'YearBuilt', '1stFlrSF', '2ndFlrSF', 'FullBath', 'BedroomAbvGr', 'TotRmsAbvGrd']\n",
    "y = data['SalePrice']\n",
    "X = data[features]\n",
    "\n",
    "# Initialize the StandardScaler\n",
    "scaler = StandardScaler()\n",
    "\n",
    "# Fit the scaler on the features and transform them\n",
    "X_scaled = scaler.fit_transform(X)\n",
    "\n",
    "# Convert the scaled features back to a DataFrame\n",
    "X_scaled_df = pd.DataFrame(X_scaled, columns=features)\n",
    "\n",
    "# Split the data into training and validation sets\n",
    "# X_train, X_val, y_train, y_val = train_test_split(X_scaled_df, y, train_size=0.8, random_state=42)\n",
    "\n",
    "# Optionally, you can also scale the target variable separately if needed\n",
    "# y_scaled = scaler.fit_transform(y.values.reshape(-1, 1))  # Example for scaling the target\n",
    "\n",
    "# Print shapes to verify\n",
    "print(f\"X_val shape: {X_scaled.shape}, y_val shape: {y.shape}\")"
   ]
  },
  {
   "cell_type": "code",
   "execution_count": 5,
   "id": "e2bf6b9e",
   "metadata": {
    "execution": {
     "iopub.execute_input": "2024-07-13T19:45:31.169935Z",
     "iopub.status.busy": "2024-07-13T19:45:31.169531Z",
     "iopub.status.idle": "2024-07-13T19:45:31.177774Z",
     "shell.execute_reply": "2024-07-13T19:45:31.176454Z"
    },
    "papermill": {
     "duration": 0.018158,
     "end_time": "2024-07-13T19:45:31.180412",
     "exception": false,
     "start_time": "2024-07-13T19:45:31.162254",
     "status": "completed"
    },
    "tags": []
   },
   "outputs": [
    {
     "data": {
      "text/plain": [
       "((1460, 7), (1460,))"
      ]
     },
     "execution_count": 5,
     "metadata": {},
     "output_type": "execute_result"
    }
   ],
   "source": [
    "X_scaled.shape, y.shape"
   ]
  },
  {
   "cell_type": "code",
   "execution_count": 6,
   "id": "3910fbe7",
   "metadata": {
    "execution": {
     "iopub.execute_input": "2024-07-13T19:45:31.194936Z",
     "iopub.status.busy": "2024-07-13T19:45:31.194038Z",
     "iopub.status.idle": "2024-07-13T19:45:31.208592Z",
     "shell.execute_reply": "2024-07-13T19:45:31.207444Z"
    },
    "papermill": {
     "duration": 0.024642,
     "end_time": "2024-07-13T19:45:31.211220",
     "exception": false,
     "start_time": "2024-07-13T19:45:31.186578",
     "status": "completed"
    },
    "tags": []
   },
   "outputs": [],
   "source": [
    "#Making all the necessary functions\n",
    "def pick_weights_and_biases():\n",
    "    n = len(features)\n",
    "    w = np.random.rand(n)\n",
    "    b = np.random.rand()\n",
    "    return w, b\n",
    "\n",
    "def calculate_absolute_cost(X_data, y_data, w, b):\n",
    "    m = len(X_data)\n",
    "    f_wb = np.dot(X_data, w) + b\n",
    "    cost = np.sum(np.abs(f_wb - y_data)) / m  # MAE\n",
    "    return cost\n",
    "\n",
    "def calculate_squared_cost(X_data, y_data, w, b):\n",
    "    m = len(X_data)\n",
    "    f_wb = np.dot(X_data, w) + b\n",
    "    cost = np.sum((f_wb - y_data) ** 2) / (2 * m) #mse\n",
    "    return cost\n",
    "\n",
    "def calculate_gradient(X_data, y_data, w, b):\n",
    "    m = len(X_data)\n",
    "    f_wb = np.dot(X_data, w) + b\n",
    "    dj_dw = np.dot(X_data.T, (f_wb - y_data)) / m\n",
    "    dj_db = np.sum(f_wb - y_data) / m  # Gradient with respect to bias\n",
    "    return dj_dw, dj_db\n",
    "\n",
    "def gradient_descent(X_data, y_data, w, b, alpha, iterations):\n",
    "    for i in range(iterations):\n",
    "        dj_dw, dj_db = calculate_gradient(X_data, y_data, w, b)\n",
    "        w = w - (alpha * dj_dw)\n",
    "        b = b - (alpha * dj_db)\n",
    "        if i%(iterations/10) == 0:\n",
    "            print(f\" i = {i} ---> Absolute cost = {calculate_absolute_cost(X_data, y_data, w, b)}\")\n",
    "            print(f\" i = {i} ---> Squared cost = {calculate_squared_cost(X_data, y_data, w, b)}\")\n",
    "    return w, b"
   ]
  },
  {
   "cell_type": "code",
   "execution_count": 7,
   "id": "b8ac1833",
   "metadata": {
    "execution": {
     "iopub.execute_input": "2024-07-13T19:45:31.225222Z",
     "iopub.status.busy": "2024-07-13T19:45:31.224794Z",
     "iopub.status.idle": "2024-07-13T19:45:53.597314Z",
     "shell.execute_reply": "2024-07-13T19:45:53.594447Z"
    },
    "papermill": {
     "duration": 22.38544,
     "end_time": "2024-07-13T19:45:53.602709",
     "exception": false,
     "start_time": "2024-07-13T19:45:31.217269",
     "status": "completed"
    },
    "tags": []
   },
   "outputs": [
    {
     "name": "stdout",
     "output_type": "stream",
     "text": [
      "Initial weights: [0.10574807 0.0088219  0.65603864 0.4605826  0.36700135 0.6542491\n",
      " 0.40055195]\n",
      "Initial bias: 0.890850989141894\n",
      "Shape of X_train: (1460, 7)\n",
      "Shape of y_train: (1460,)\n",
      "Shape of w_initial: (7,)\n",
      "Initial absolute Cost: 180920.3050394218\n",
      "Initial squared Cost: 180920.3050394218\n",
      " i = 0 ---> Absolute cost = 179111.1019890276\n",
      " i = 0 ---> Squared cost = 19104035298.5418\n",
      " i = 2500 ---> Absolute cost = 27690.844684872205\n",
      " i = 2500 ---> Squared cost = 929241210.7285581\n",
      " i = 5000 ---> Absolute cost = 27668.15018377992\n",
      " i = 5000 ---> Squared cost = 929140039.9227828\n",
      " i = 7500 ---> Absolute cost = 27667.28949337488\n",
      " i = 7500 ---> Squared cost = 929139882.1224777\n",
      " i = 10000 ---> Absolute cost = 27667.255497894836\n",
      " i = 10000 ---> Squared cost = 929139881.8763037\n",
      " i = 12500 ---> Absolute cost = 27667.25415516522\n",
      " i = 12500 ---> Squared cost = 929139881.8759193\n",
      " i = 15000 ---> Absolute cost = 27667.25410213103\n",
      " i = 15000 ---> Squared cost = 929139881.8759187\n",
      " i = 17500 ---> Absolute cost = 27667.254100036324\n",
      " i = 17500 ---> Squared cost = 929139881.8759187\n",
      " i = 20000 ---> Absolute cost = 27667.254099953603\n",
      " i = 20000 ---> Squared cost = 929139881.8759187\n",
      " i = 22500 ---> Absolute cost = 27667.254099950344\n",
      " i = 22500 ---> Squared cost = 929139881.8759187\n",
      "Final weights: [  5497.48815876  26666.24798592  45130.00947999  36655.7315341\n",
      "   -276.44328972 -14859.40446204   7922.82582679]\n",
      "Final bias: 180921.1958904095\n",
      "Final Absolute Cost: 27667.25409995024\n",
      "Final Squared Cost: 27667.25409995024\n"
     ]
    }
   ],
   "source": [
    "# Adjusted learning rate and iterations\n",
    "alpha = 0.01  # Reduce learning rate further\n",
    "iterations = 25000  # Increase number of iterations\n",
    "\n",
    "# Re-run gradient descent\n",
    "w_initial, b_initial = pick_weights_and_biases()\n",
    "print(f\"Initial weights: {w_initial}\")\n",
    "print(f\"Initial bias: {b_initial}\")\n",
    "\n",
    "print(f\"Shape of X_train: {X_scaled.shape}\")\n",
    "print(f\"Shape of y_train: {y.shape}\")\n",
    "print(f\"Shape of w_initial: {w_initial.shape}\")\n",
    "\n",
    "initial_absolute_cost = calculate_absolute_cost(X_scaled, y, w_initial, b_initial)\n",
    "initial_squared_cost = calculate_squared_cost(X_scaled, y, w_initial, b_initial)\n",
    "print(f\"Initial absolute Cost: {initial_absolute_cost}\")\n",
    "print(f\"Initial squared Cost: {initial_absolute_cost}\")\n",
    "\n",
    "w_final, b_final = gradient_descent(X_scaled, y, w_initial, b_initial, alpha, iterations)\n",
    "\n",
    "print(f\"Final weights: {w_final}\")\n",
    "print(f\"Final bias: {b_final}\")\n",
    "\n",
    "final_absolute_cost = calculate_absolute_cost(X_scaled, y, w_final, b_final)\n",
    "final_squared_cost = calculate_squared_cost(X_scaled, y, w_final, b_final)\n",
    "print(f\"Final Absolute Cost: {final_absolute_cost}\")\n",
    "print(f\"Final Squared Cost: {final_absolute_cost}\")\n",
    "\n"
   ]
  },
  {
   "cell_type": "code",
   "execution_count": 8,
   "id": "acb66ab0",
   "metadata": {
    "execution": {
     "iopub.execute_input": "2024-07-13T19:45:53.638718Z",
     "iopub.status.busy": "2024-07-13T19:45:53.638051Z",
     "iopub.status.idle": "2024-07-13T19:45:53.666585Z",
     "shell.execute_reply": "2024-07-13T19:45:53.665055Z"
    },
    "papermill": {
     "duration": 0.050178,
     "end_time": "2024-07-13T19:45:53.671675",
     "exception": false,
     "start_time": "2024-07-13T19:45:53.621497",
     "status": "completed"
    },
    "tags": []
   },
   "outputs": [
    {
     "name": "stdout",
     "output_type": "stream",
     "text": [
      "[219164.64359536 161876.1612803  217670.6719971  ... 215189.55784088\n",
      " 131337.00066566 152147.85672781]\n"
     ]
    }
   ],
   "source": [
    "# Initialize an array to store predictions\n",
    "predicted = np.zeros(len(X_scaled))\n",
    "\n",
    "# Iterate over each instance in X_train\n",
    "for i in range(len(X_scaled)):\n",
    "    # Calculate the prediction using the trained weights and bias\n",
    "    predicted[i] = np.dot(w_final, X_scaled[i]) + b_final\n",
    "\n",
    "# Print or use the predictions as needed\n",
    "print(predicted)\n"
   ]
  },
  {
   "cell_type": "code",
   "execution_count": 9,
   "id": "c23d9597",
   "metadata": {
    "execution": {
     "iopub.execute_input": "2024-07-13T19:45:53.704203Z",
     "iopub.status.busy": "2024-07-13T19:45:53.703539Z",
     "iopub.status.idle": "2024-07-13T19:45:53.714901Z",
     "shell.execute_reply": "2024-07-13T19:45:53.713803Z"
    },
    "papermill": {
     "duration": 0.030073,
     "end_time": "2024-07-13T19:45:53.717241",
     "exception": false,
     "start_time": "2024-07-13T19:45:53.687168",
     "status": "completed"
    },
    "tags": []
   },
   "outputs": [
    {
     "data": {
      "text/plain": [
       "(1858279763.7518375, 27667.25409995024)"
      ]
     },
     "execution_count": 9,
     "metadata": {},
     "output_type": "execute_result"
    }
   ],
   "source": [
    "from sklearn.metrics import mean_squared_error, mean_absolute_error\n",
    "\n",
    "mse = mean_squared_error(y, predicted)\n",
    "mae = mean_absolute_error(y, predicted)\n",
    "\n",
    "mse, mae"
   ]
  },
  {
   "cell_type": "code",
   "execution_count": 10,
   "id": "1411caa1",
   "metadata": {
    "execution": {
     "iopub.execute_input": "2024-07-13T19:45:53.733854Z",
     "iopub.status.busy": "2024-07-13T19:45:53.733452Z",
     "iopub.status.idle": "2024-07-13T19:45:53.789636Z",
     "shell.execute_reply": "2024-07-13T19:45:53.788074Z"
    },
    "papermill": {
     "duration": 0.067475,
     "end_time": "2024-07-13T19:45:53.792174",
     "exception": false,
     "start_time": "2024-07-13T19:45:53.724699",
     "status": "completed"
    },
    "tags": []
   },
   "outputs": [
    {
     "name": "stdout",
     "output_type": "stream",
     "text": [
      "[120848.01748845 156876.0066946  202633.62101218 ... 136194.11768111\n",
      " 142873.20620377 244806.2290663 ]\n"
     ]
    }
   ],
   "source": [
    "# path to file you will use for predictions\n",
    "test_data_path = '/kaggle/input/home-data-for-ml-course/test.csv'\n",
    "\n",
    "# read test data file using pandas\n",
    "test_data = pd.read_csv(test_data_path)\n",
    "\n",
    "# create test_X which comes from test_data but includes only the columns you used for prediction.\n",
    "# The list of columns is stored in a variable called features\n",
    "test_X = test_data[features]\n",
    "\n",
    "# # Initialize an array to store predictions\n",
    "# predicted_f = np.zeros(len(test_X))\n",
    "\n",
    "# # Iterate over each instance in test_X\n",
    "# for i in range(len(test_X)):\n",
    "#     # Calculate the prediction using the trained weights and bias\n",
    "#     predicted_f[i] = np.dot(w_final, test_X.iloc[i]) + b_final\n",
    "\n",
    "# # Print or use the predictions as needed\n",
    "# print(predicted_f)\n",
    "\n",
    "# # You can now proceed to use these predictions for submission or further evaluation.\n",
    "\n",
    "\n",
    "from sklearn.preprocessing import StandardScaler\n",
    "\n",
    "# Assuming 'scaler' is the StandardScaler object fit on your training data\n",
    "# Scale the test data using the same scaler\n",
    "test_X_scaled = scaler.transform(test_X[features])\n",
    "# Initialize an array to store predictions\n",
    "predicted_f = np.zeros(len(test_X_scaled))\n",
    "\n",
    "# Iterate over each instance in test_X_scaled\n",
    "for i in range(len(test_X_scaled)):\n",
    "    # Calculate the prediction using the trained weights and bias\n",
    "    predicted_f[i] = np.dot(w_final, test_X_scaled[i]) + b_final\n",
    "\n",
    "# Print or use the predictions as needed\n",
    "print(predicted_f)\n"
   ]
  },
  {
   "cell_type": "code",
   "execution_count": 11,
   "id": "2d8147fa",
   "metadata": {
    "execution": {
     "iopub.execute_input": "2024-07-13T19:45:53.809286Z",
     "iopub.status.busy": "2024-07-13T19:45:53.808889Z",
     "iopub.status.idle": "2024-07-13T19:45:53.825449Z",
     "shell.execute_reply": "2024-07-13T19:45:53.824026Z"
    },
    "papermill": {
     "duration": 0.02833,
     "end_time": "2024-07-13T19:45:53.828277",
     "exception": false,
     "start_time": "2024-07-13T19:45:53.799947",
     "status": "completed"
    },
    "tags": []
   },
   "outputs": [],
   "source": [
    "# Run the code to save predictions in the format used for competition scoring\n",
    "\n",
    "output = pd.DataFrame({'Id': test_data.Id,\n",
    "                       'SalePrice': predicted_f})\n",
    "output.to_csv('submission.csv', index=False)"
   ]
  },
  {
   "cell_type": "code",
   "execution_count": null,
   "id": "c814f05a",
   "metadata": {
    "papermill": {
     "duration": 0.007165,
     "end_time": "2024-07-13T19:45:53.843069",
     "exception": false,
     "start_time": "2024-07-13T19:45:53.835904",
     "status": "completed"
    },
    "tags": []
   },
   "outputs": [],
   "source": []
  }
 ],
 "metadata": {
  "kaggle": {
   "accelerator": "none",
   "dataSources": [
    {
     "databundleVersionId": 111096,
     "sourceId": 10211,
     "sourceType": "competition"
    }
   ],
   "dockerImageVersionId": 30746,
   "isGpuEnabled": false,
   "isInternetEnabled": true,
   "language": "python",
   "sourceType": "notebook"
  },
  "kernelspec": {
   "display_name": "Python 3",
   "language": "python",
   "name": "python3"
  },
  "language_info": {
   "codemirror_mode": {
    "name": "ipython",
    "version": 3
   },
   "file_extension": ".py",
   "mimetype": "text/x-python",
   "name": "python",
   "nbconvert_exporter": "python",
   "pygments_lexer": "ipython3",
   "version": "3.10.13"
  },
  "papermill": {
   "default_parameters": {},
   "duration": 29.168396,
   "end_time": "2024-07-13T19:45:54.473953",
   "environment_variables": {},
   "exception": null,
   "input_path": "__notebook__.ipynb",
   "output_path": "__notebook__.ipynb",
   "parameters": {},
   "start_time": "2024-07-13T19:45:25.305557",
   "version": "2.5.0"
  }
 },
 "nbformat": 4,
 "nbformat_minor": 5
}
